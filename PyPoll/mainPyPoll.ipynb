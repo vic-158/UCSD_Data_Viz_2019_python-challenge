{
 "cells": [
  {
   "cell_type": "code",
   "execution_count": null,
   "metadata": {},
   "outputs": [],
   "source": [
    "# The dataset is composed of three columns: Voter ID, County, and Candidate. \n",
    "# Your task is to create a Python script that analyzes the votes and calculates each of the following:\n",
    "# The total number of votes cast\n",
    "# A complete list of candidates who received votes\n",
    "# The percentage of votes each candidate won\n",
    "# The total number of votes each candidate won\n",
    "# The winner of the election based on popular vote."
   ]
  },
  {
   "cell_type": "code",
   "execution_count": 13,
   "metadata": {},
   "outputs": [
    {
     "name": "stdout",
     "output_type": "stream",
     "text": [
      "Election Results\n",
      "-------------------------\n",
      "Total Votes: 3521001\n",
      "-------------------------\n",
      "Khan: 63.000 (2218231) \n",
      "Correy: 20.000 (704200) \n",
      "Li: 14.000 (492940) \n",
      "O'Tooley: 3.000 (105630) \n",
      "-------------------------\n",
      "Winner: Khan\n",
      "-------------------------\n"
     ]
    }
   ],
   "source": [
    "import os\n",
    "import csv\n",
    "\n",
    "#Declare variables\n",
    "candidates = []\n",
    "uniqueCandidates = []\n",
    "\n",
    "#Open election_data.csv as long as election_data is in the same folder as this file\n",
    "path = os.path.join(\".\",\"election_data.csv\")\n",
    "with open(path,'r') as csvfile:\n",
    "    csvreader = csv.reader(csvfile, delimiter = \",\")\n",
    "    next(csvreader)\n",
    "    #Iterate through the entire list, determine total num votes and all unique candidates\n",
    "    for row in csvreader:\n",
    "        candidates.append(row[2])\n",
    "        if(row[2] not in uniqueCandidates):\n",
    "            uniqueCandidates.append(row[2])\n",
    "\n",
    "voteCount = []\n",
    "\n",
    "for names in uniqueCandidates:\n",
    "    voteCount.append(candidates.count(names))\n",
    "\n",
    "print(\"Election Results\\n-------------------------\")\n",
    "print(f\"Total Votes: {len(candidates)}\\n-------------------------\")\n",
    "\n",
    "for item in uniqueCandidates:\n",
    "    print(f'''{item}: {\"{0:.3f}\".format((candidates.count(item)/len(candidates))*100)} ({candidates.count(item)}) ''')\n",
    "\n",
    "print(\"-------------------------\")\n",
    "print(f\"Winner: {uniqueCandidates[voteCount.index(max(voteCount))]}\")\n",
    "print(\"-------------------------\")\n",
    "\n",
    "\n",
    "\n",
    "#For the numer of unique candidates, output the count.\n",
    "\n",
    "\n",
    "#create budgetDataOutput.csv which contains the above information printed to the terminal\n",
    "with open(\"electionDataOutput.txt\",\"w\") as output:\n",
    "    output.write(\"\")\n",
    "    output.write(\"Election Results\\n-------------------------\\n\")\n",
    "    output.write(f\"Total Votes: {len(candidates)}\\n-------------------------\\n\")\n",
    "\n",
    "    for item in uniqueCandidates:\n",
    "        output.write(f'''{item}: {\"{0:.3f}\".format((candidates.count(item)/len(candidates))*100)} ({candidates.count(item)}) \\n''')\n",
    "\n",
    "    output.write(\"-------------------------\\n\")\n",
    "    output.write(f\"Winner: {uniqueCandidates[voteCount.index(max(voteCount))]}\\n\")\n",
    "    output.write(\"-------------------------\")"
   ]
  },
  {
   "cell_type": "code",
   "execution_count": null,
   "metadata": {},
   "outputs": [],
   "source": []
  }
 ],
 "metadata": {
  "kernelspec": {
   "display_name": "Python 3",
   "language": "python",
   "name": "python3"
  },
  "language_info": {
   "codemirror_mode": {
    "name": "ipython",
    "version": 3
   },
   "file_extension": ".py",
   "mimetype": "text/x-python",
   "name": "python",
   "nbconvert_exporter": "python",
   "pygments_lexer": "ipython3",
   "version": "3.7.1"
  }
 },
 "nbformat": 4,
 "nbformat_minor": 2
}
