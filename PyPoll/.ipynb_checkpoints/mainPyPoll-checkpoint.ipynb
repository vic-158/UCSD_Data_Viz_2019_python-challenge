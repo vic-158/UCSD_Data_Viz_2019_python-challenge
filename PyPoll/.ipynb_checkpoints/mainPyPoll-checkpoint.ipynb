{
 "cells": [
  {
   "cell_type": "code",
   "execution_count": null,
   "metadata": {},
   "outputs": [],
   "source": [
    "# The dataset is composed of three columns: Voter ID, County, and Candidate. \n",
    "# Your task is to create a Python script that analyzes the votes and calculates each of the following:\n",
    "# The total number of votes cast\n",
    "# A complete list of candidates who received votes\n",
    "# The percentage of votes each candidate won\n",
    "# The total number of votes each candidate won\n",
    "# The winner of the election based on popular vote."
   ]
  },
  {
   "cell_type": "code",
   "execution_count": 3,
   "metadata": {},
   "outputs": [
    {
     "name": "stdout",
     "output_type": "stream",
     "text": [
      "Counter({'Khan': 2218231, 'Correy': 704200, 'Li': 492940, \"O'Tooley\": 105630})\n",
      "Election Results\n",
      "-------------------------\n",
      "Total Votes: 3521001\n",
      "-------------------------\n"
     ]
    },
    {
     "name": "stderr",
     "output_type": "stream",
     "text": [
      "IOPub data rate exceeded.\n",
      "The notebook server will temporarily stop sending output\n",
      "to the client in order to avoid crashing it.\n",
      "To change this limit, set the config variable\n",
      "`--NotebookApp.iopub_data_rate_limit`.\n",
      "\n",
      "Current values:\n",
      "NotebookApp.iopub_data_rate_limit=1000000.0 (bytes/sec)\n",
      "NotebookApp.rate_limit_window=3.0 (secs)\n",
      "\n"
     ]
    }
   ],
   "source": [
    "import os\n",
    "import csv\n",
    "from collections import Counter\n",
    "\n",
    "#Declare variables\n",
    "totalVotes = 0\n",
    "candidates = []\n",
    "\n",
    "#Open election_data.csv as long as election_data is in the same folder as this file\n",
    "path = os.path.join(\".\",\"election_data.csv\")\n",
    "with open(path,'r') as csvfile:\n",
    "    csvreader = csv.reader(csvfile, delimiter = \",\")\n",
    "    next(csvreader)\n",
    "    #Iterate through the entire list, determine total num votes and all unique candidates\n",
    "    for row in csvreader:\n",
    "        totalVotes = totalVotes + 1\n",
    "        candidates.append(row[2])\n",
    "    #Create list of vote counts with length equal to number of distinct candidates\n",
    "    voteCounts = [0]*len(candidates)\n",
    "\n",
    "print(Counter(candidates))\n",
    "\n",
    "print(\"Election Results\\n-------------------------\")\n",
    "print(f\"Total Votes: {totalVotes}\\n-------------------------\")\n",
    "print(candidates)\n",
    "print(voteCounts)\n",
    "\n",
    "#create budgetDataOutput.csv which contains the above information printed to the terminal\n",
    "with open(\"electionDataOutput.txt\",\"w\") as output:\n",
    "    output.write(\"\")"
   ]
  },
  {
   "cell_type": "code",
   "execution_count": null,
   "metadata": {},
   "outputs": [],
   "source": []
  }
 ],
 "metadata": {
  "kernelspec": {
   "display_name": "Python 3",
   "language": "python",
   "name": "python3"
  },
  "language_info": {
   "codemirror_mode": {
    "name": "ipython",
    "version": 3
   },
   "file_extension": ".py",
   "mimetype": "text/x-python",
   "name": "python",
   "nbconvert_exporter": "python",
   "pygments_lexer": "ipython3",
   "version": "3.7.1"
  }
 },
 "nbformat": 4,
 "nbformat_minor": 2
}
