{
 "cells": [
  {
   "cell_type": "code",
   "execution_count": null,
   "metadata": {},
   "outputs": [],
   "source": [
    "# The total number of months included in the dataset\n",
    "# The net total amount of \"Profit/Losses\" over the entire period\n",
    "# The average of the changes in \"Profit/Losses\" over the entire period\n",
    "# The greatest increase in profits (date and amount) over the entire period\n",
    "# The greatest decrease in losses (date and amount) over the entire period\n",
    "\n",
    "#In addition, your final script should both print the analysis to the terminal and export a text file with the results."
   ]
  },
  {
   "cell_type": "code",
   "execution_count": 42,
   "metadata": {},
   "outputs": [
    {
     "name": "stdout",
     "output_type": "stream",
     "text": [
      "Total Months: 86\n",
      "Total: 38382578\n",
      "Average Change: -2315.12\n",
      "Greatest Increase in Profits: Feb-2012 (1170593)\n",
      "Greatest Decrease in Profits: Sep-2013 (-1196225)\n"
     ]
    }
   ],
   "source": [
    "import os\n",
    "import csv\n",
    "\n",
    "#Declare Variables\n",
    "numMonths = 0\n",
    "netRevenue = 0\n",
    "\n",
    "#prevMonthRev and change are used to determine the change between months\n",
    "prevMonthRev = 0\n",
    "change = []\n",
    "grProf = 0\n",
    "grProfDate = \"\"\n",
    "grLoss = 0\n",
    "grLossDate = \"\"\n",
    "\n",
    "#Read budget_data.csv notebook as long as budget_data is in the same directory.\n",
    "path = os.path.join(\".\",\"budget_data.csv\")\n",
    "with open(path,'r') as csvfile:\n",
    "    csvreader = csv.reader(csvfile, delimiter = \",\")\n",
    "    next(csvreader)\n",
    "    for row in csvreader:\n",
    "        numMonths = numMonths + 1\n",
    "        netRevenue = netRevenue + int(row[1])\n",
    "        change.append(int(row[1])-prevMonthRev)\n",
    "        prevMonthRev = int(row[1])\n",
    "        if(int(row[1]) > int(grProf)):\n",
    "            grProf = row[1]\n",
    "            grProfDate = row[0]\n",
    "        if(int(row[1]) < int(grLoss)):\n",
    "            grLoss = row[1]\n",
    "            grLossDate = row[0]\n",
    "        \n",
    "#remove the first item in the change list because it is the difference between 0 and the first month\n",
    "change.remove(change[0])\n",
    "\n",
    "#print requested outputs to terminal\n",
    "print(f\"Total Months: {numMonths}\")\n",
    "print(f\"Total: {netRevenue}\")\n",
    "print(f\"Average Change: {(sum(change)/len(change)):.2f}\")\n",
    "print(f\"Greatest Increase in Profits: {grProfDate} ({grProf})\")\n",
    "print(f\"Greatest Decrease in Profits: {grLossDate} ({grLoss})\")\n",
    "\n",
    "#create budgetDataOutput.csv which contains the above information printed to the terminal\n",
    "with open(\"budgetDataOutput.txt\",\"w\") as output:\n",
    "    output.write(\"Below is the Budget Data Output for budget_data.csv:\\n\")\n",
    "    output.write(f\"Total Months: {numMonths}\\n\")\n",
    "    output.write(f\"Total: {netRevenue}\\n\")\n",
    "    output.write(f\"Average Change: {(sum(change)/len(change)):.2f}\\n\")\n",
    "    output.write(f\"Greatest Increase in Profits: {grProfDate} ({grProf})\\n\")\n",
    "    output.write(f\"Greatest Decrease in Profits: {grLossDate} ({grLoss})\")\n",
    "    output.close()"
   ]
  },
  {
   "cell_type": "code",
   "execution_count": null,
   "metadata": {},
   "outputs": [],
   "source": []
  }
 ],
 "metadata": {
  "kernelspec": {
   "display_name": "Python 3",
   "language": "python",
   "name": "python3"
  },
  "language_info": {
   "codemirror_mode": {
    "name": "ipython",
    "version": 3
   },
   "file_extension": ".py",
   "mimetype": "text/x-python",
   "name": "python",
   "nbconvert_exporter": "python",
   "pygments_lexer": "ipython3",
   "version": "3.7.1"
  }
 },
 "nbformat": 4,
 "nbformat_minor": 2
}
